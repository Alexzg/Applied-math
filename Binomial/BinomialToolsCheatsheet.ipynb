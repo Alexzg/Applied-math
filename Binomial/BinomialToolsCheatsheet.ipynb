{
 "cells": [
  {
   "cell_type": "markdown",
   "metadata": {},
   "source": [
    "# PROBABILITY TOOLS IN ENGINEERING"
   ]
  },
  {
   "cell_type": "markdown",
   "metadata": {},
   "source": [
    "## __Discrete problems__ _(Working with quantities of things)_"
   ]
  },
  {
   "cell_type": "markdown",
   "metadata": {},
   "source": [
    "### BINOMIAL DISTRIBUTION (_The answer to_ Yes/No _&_ Good/Bad _questions_, for independent to each other objects)"
   ]
  },
  {
   "cell_type": "markdown",
   "metadata": {},
   "source": [
    "The binomial distribution is frequently used to model the number of successes/fails in a n-long population(or sequence of trials), where p is the probability of success/fail. It can also show the number of trials needed to achieve a first success/failure.  \n",
    "The binomial distribution is a special case of Poisson distribution.  \n",
    "\n",
    "- Trials are __Independent__ (the outcome of yes/no for each object, does not dependent on the other objects)  \n",
    "- Trials __with replacement__ _(in each trial the examined object/component re-enters again the system, the system remains the same throught the process)_  "
   ]
  },
  {
   "cell_type": "markdown",
   "metadata": {},
   "source": [
    "**Equation:**"
   ]
  },
  {
   "cell_type": "markdown",
   "metadata": {},
   "source": [
    "$P(k) = {n\\choose k}*p^k q^{n-k} = \\frac{n!}{k!(n-k)!}*p^k (1-p)^{n-k}$  \n",
    "- k: number of desired yes  \n",
    "- n: number of population or trials  \n",
    "- p: probability of yes to occur  \n",
    "- q =(1-p): probability of no to occur  \n",
    "- ${n\\choose k}$: Binomial coefficient, Combinations of k objects out of n objects; Their order does not matter  \n",
    "- $p^k q^{n-k}$: Probability of any n-long sequence   "
   ]
  },
  {
   "cell_type": "markdown",
   "metadata": {},
   "source": [
    "![BinomialGraph](BinomialDistribution.png)"
   ]
  },
  {
   "cell_type": "markdown",
   "metadata": {},
   "source": [
    "__Engineering Examples:__  "
   ]
  },
  {
   "cell_type": "markdown",
   "metadata": {},
   "source": [
    "__1. Probability of failures in an experiment, by examing a portion of results__    "
   ]
  },
  {
   "cell_type": "markdown",
   "metadata": {},
   "source": [
    "A series of one hundred binary results is inspected by analysing four randomly selected results. Results are independent. If one of the four failed, the experiment is rejected. What is the probability that the experiment is accepted if it contains five failures?  "
   ]
  },
  {
   "cell_type": "markdown",
   "metadata": {},
   "source": [
    "__Steps before solution:__  \n",
    "- Results are clearly separated quantities (discrete).  \n",
    "- Each result is \"independent\".  \n",
    "__So, the Binomial equation applies__  \n",
    "\n",
    "__Solution:__  \n",
    "- the population of objects we want to examine is 4, so __n=4__.  \n",
    "- the experiment is accepted only if 0 failed results appear, so __k=0__.  \n",
    "- we know there are 5 in 100 failed tests; that means that if we take 1 random result it has a 5/100 probability to be a failed one, so __p__=5%=5/100=__0.05__.  \n",
    "- the question can be denoted as $P(k=0)=?$.  \n",
    "\n",
    "__By using the equation we have:__ $P(k=0)=\\frac{4!}{0!(4-0)!} 0.05^0 (1-0.05)^{4-0}=0.814$, which is __the probability to accept the experiment, by examing 4 out of 100 results with a 5% fail probabilty__.  \n",
    "\n",
    "__!__ What is interesting is that for the same experiment we can examine different questions.  \n",
    "eg. What is the probability that the experiment is _not accepted_ if it contains five failures?  \n",
    "- the experiment is not accepted if 1 or 2 or 3 or 4 failed results appear, so __k= 1 or 2 or 3 or 4__.  \n",
    "- \"or\" in probabilities means addition, so __P(k=[1,2,3,4])=P(k>1)=P(k=1)+P(k=2)+P(k=3)+P(k=4)__.  \n",
    "\n",
    "__By using the equation we have:__ $P(k=1) = \\frac{4!}{1!(4-1)!} 0.05^1 (1-0.05)^{4-1}=0.171$.  \n",
    "__By using the equation for each k we have:__ $P(k>1) = 0.171+0.014+0.0004+0.0000006=0.185$, which is the probability to not accept the experiment, by examing 4 out of 100 results with a 5% fail probabilty.  \n",
    "\n",
    "__Funny fact: adding the two solutions 0.814+0.185 we have 0.999999 which is 100%__. That means that there is 100% chance that the experiment will be accepted or not.\\\n"
   ]
  },
  {
   "cell_type": "markdown",
   "metadata": {},
   "source": [
    "__2. Probability that a customer will purchase defected products__  "
   ]
  },
  {
   "cell_type": "markdown",
   "metadata": {},
   "source": [
    "It is known that, in a certain manufacturing process, 1% of the products are\n",
    "defective. If the a customer purchases 50 of these products selected at random,\n",
    "what is the probability that he receives 2 or less defective products?  "
   ]
  },
  {
   "cell_type": "markdown",
   "metadata": {},
   "source": [
    "__Steps before solution:__  \n",
    "- Products are clearly separated quantities (discrete).  \n",
    "- Each product is \"independent\".  \n",
    "__So, the Binomial equation applies__  \n",
    "\n",
    "__Solution:__  \n",
    "- the population of objects we want to examine is 50, so __n=50__.  \n",
    "- to be successful, the defected products must be 2 or less, so __k= 0 or 1 or 2__.  \n",
    "- we know there is 1% chance that a product is defected, so __p__=1%__=0.01__.  \n",
    "- the question can be denoted as $P(k=[0,1,2]) = P(k \\leq{2})=?$.  \n",
    "- \"or\" in probabilities means addition, so __P(k=[0,1,2])=P(k$\\leq{2}$)=P(k=0)+P(k=1)+P(k=2)__.  \n",
    "\n",
    "__By using the equation we have:__ $P(k=0) = \\frac{50!}{0!(50-0)!} 0.01^0 (1-0.01)^{50-0}=0.605$.  \n",
    "__By using the equation for each k we have:__ $P(k \\leq{2}) = 0.605+0.305+0.075=0.985$, which is __the probability to send the shipment with 2 defected products or less, if there is a 1% fail probabilty during manufacturing__.\\\n"
   ]
  },
  {
   "cell_type": "markdown",
   "metadata": {},
   "source": [
    "__3. Probability of defects in Quality control of products, by examing a portion of products__  "
   ]
  },
  {
   "cell_type": "markdown",
   "metadata": {},
   "source": [
    "An engineer is testing whether or not\n",
    "90% of the DVD players produced by his company conform to\n",
    "specifications and randomly selects a batch of\n",
    "12 DVD players from each day’s production. \n",
    "The day’s production is acceptable provided no more than 1 DVD player fails to meet\n",
    "specifications. Otherwise, the entire day’s production has to be\n",
    "tested.  \n",
    "\n",
    "1. What is the probability that the engineer incorrectly passes a\n",
    "day’s production as acceptable if only 80% of the day’s DVD\n",
    "players actually conform to specification?  \n",
    "2. What is the probability that the engineer unnecessarily\n",
    "requires the entire day’s production to be tested if in fact 90%\n",
    "of the DVD players conform to specifications?  \n"
   ]
  },
  {
   "cell_type": "markdown",
   "metadata": {},
   "source": [
    "__Question 1__  \n",
    "__Steps before solution:__  \n",
    "- Products are clearly separated quantities (discrete).  \n",
    "- Each product is \"independent\".  \n",
    "__So, the Binomial equation applies__  \n",
    "\n",
    "__Solution a:__  \n",
    "- the population of objects we want to examine is 12, so __n=12__.  \n",
    "- to incorrectly pass the products, the defected products must be more than 2, so __k= 2 or 3 or 4 ... or 12__.  \n",
    "- we know there is 80% chance that a product is ok, so __p__=80%__=0.8__.  \n",
    "- the question can be denoted as $P(k=[2,3,4,...,12])=P(k>1)=?$.  \n",
    "- \"or\" in probabilities means addition, so  \n",
    "__P(k>1)=P(k=2)+P(k=3)+P(k=4)+P(k=5)+...+P(k=10)+P(k=11)+P(k=12)__.  \n",
    "\n",
    "This approach is not practical as we have to calculate a lot of numbers.  \n",
    "The chance that we will be correct or wrong is 100%. So an easier way to examine this problem is:  \n",
    "- __P(correct or wrong) =100%=1 =P(correct)+P(wrong) =>__  \n",
    "- __P(wrong) = 1 - P(correct) =>__  \n",
    "- So, __P(k=[2, 3, 4,..., 12]) = 1 - P(k=[0, 1])__.  \n",
    "- By using this relation, we only need to calculate the chance that we are correct _(Solution b)_.  \n",
    "\n",
    "__Solution b:__  \n",
    "- the population of objects we want to examine is 12, so __n=12__.  \n",
    "- to be successful, the defected products must be 1 or less, so __k= 0 or 1__.  \n",
    "- we know there is 80% chance that a product is ok, so the chance for a defect is __p__ = 1 - 80% __= 0.2__.  \n",
    "- the question can be denoted as $P(k \\leq{1})=?$.  \n",
    "- \"or\" in probabilities means addition, so __P(k$\\leq{1}$)=P(k=0)+P(k=1)__.\n",
    "\n",
    "__By using the equation we have:__ $P(k=0) = \\frac{50!}{0!(50-0)!} 0.01^0 (1-0.01)^{50-0}=0.28$.  \n",
    "__By using the equation for each k we have:__ $P(k \\leq{1}) = 0.28 + 0.376 =0.656$, which is __the probability to correctly pass the products with 1 defected product or less, if there is a 20% fail probabilty during production__.  \n",
    "  \n",
    "By using the previously mentioned relation __P(wrong)=1-P(correct)__, we calculate that __P(wrong)=1-0.656=0.344__.\\\n"
   ]
  },
  {
   "cell_type": "markdown",
   "metadata": {},
   "source": []
  },
  {
   "cell_type": "markdown",
   "metadata": {},
   "source": [
    "### __Independent trials / experiments__ _(planning formulas)_"
   ]
  },
  {
   "cell_type": "markdown",
   "metadata": {},
   "source": [
    "1. __Probability of an incorrect test/trial.__  \n",
    "\n",
    "- Trials/tests are __Independent__ (the outcome of yes/no for each trial, does not dependent on the other trials)\n",
    "- Test __Relability__ __≠__ Experiment __Validity__ (A _correct Test_ doesn't mean _correct conlcusion_; The metrics used for validating a hypothesis/parameter should be thoroughly examined)"
   ]
  },
  {
   "cell_type": "markdown",
   "metadata": {},
   "source": [
    "$P(Test  Incorrect) + P(Test  Correct) = 1, P()>0 $  \n",
    "\n",
    "$P(Test  Incorrect) = P(Human  Error |or| System Error) = P(Human  Error) + P(System  Error) $ (Human error, System error : independent to each other)  \n",
    "\n",
    "$P(Human Error) = \\frac{h}{n}$, $P(System Error) = \\frac{s}{n}$    \n",
    "\n",
    "- h: Number of total Human errors\n",
    "- s: Number of total System errors\n",
    "- n: Number of total population or trials/tests\n",
    "- h + s  $\\le$  n\n",
    "- ph: Probability of Human errors\n",
    "- ps: Probability of System errors\n",
    "- p: probability to occur\n",
    "- q=(1-p) : probability   "
   ]
  },
  {
   "cell_type": "markdown",
   "metadata": {},
   "source": [
    "Formula:"
   ]
  },
  {
   "cell_type": "code",
   "execution_count": 11,
   "metadata": {},
   "outputs": [
    {
     "name": "stdout",
     "output_type": "stream",
     "text": [
      "P(Human Error)= 0.1 %\n",
      "P(System Error)= 0.4 %\n",
      "P(Test Incorrect)= 0.5 %\n"
     ]
    }
   ],
   "source": [
    "h = 5\n",
    "s = 20\n",
    "n = 50\n",
    "print(\"P(Human Error)=\", h/n, \"%\")\n",
    "print(\"P(System Error)=\", s/n, \"%\")\n",
    "print(\"P(Test Incorrect)=\", (h/n)+(s/n), \"%\")"
   ]
  },
  {
   "cell_type": "code",
   "execution_count": 12,
   "metadata": {},
   "outputs": [
    {
     "name": "stdout",
     "output_type": "stream",
     "text": [
      "P(Human Error)= 0.1 %\n",
      "P(System Error)= 0.3 %\n",
      "P(Test Incorrect)= 0.4 %\n"
     ]
    }
   ],
   "source": [
    "ph = 0.1\n",
    "ps = 0.3\n",
    "print(\"P(Human Error)=\", ph, \"%\")\n",
    "print(\"P(System Error)=\", ps, \"%\")\n",
    "print(\"P(Test Incorrect)=\", ph+ps, \"%\")"
   ]
  },
  {
   "cell_type": "markdown",
   "metadata": {},
   "source": [
    "2. __Probability of correct test/trial in a row.__  \n",
    "\n",
    "- Trials/tests are __Independent__ (the outcome of yes/no for each trial, does not dependent on the other trials)\n",
    "- Test __Relability__ __≠__ Experiment __Validity__ (A _correct Test_ doesn't mean _correct conlcusion_; The metrics used for validating a hypothesis/parameter should be thoroughly examined)"
   ]
  },
  {
   "cell_type": "markdown",
   "metadata": {},
   "source": [
    "$P(Test  Incorrect) + P(Test  Correct) = 1, P()>0 $  \n",
    "\n",
    "$P(Test  Incorrect) = P(Human  Error |or| System Error) = P(Human  Error) + P(System  Error) $ (Human error, System error : independent to each other)  \n",
    "\n",
    "$P(k \\ge n) = p * \\sum_{k = n}^{\\infty} (1-p)^{k-1} = (1-p)^{n-1}$    \n",
    "\n",
    "- k: Correct trials/tests in a row\n",
    "- n: Wanted number of correct trials/tests\n",
    "- p: probability of correct to occur\n",
    "- q=(1-p) : probability of incorrect to occur   "
   ]
  },
  {
   "cell_type": "code",
   "execution_count": 30,
   "metadata": {},
   "outputs": [
    {
     "name": "stdout",
     "output_type": "stream",
     "text": [
      "P(Test correct) =  0.01 %\n",
      "P(Tests correct for  10  trials) =  0.9135172474836408 %\n"
     ]
    }
   ],
   "source": [
    "p = 0.01\n",
    "n = 10\n",
    "print(\"P(Test correct) = \", p, \"%\")\n",
    "print(\"P(Tests correct for \", n, \" trials) = \", (1-p)**(n-1), \"%\")"
   ]
  },
  {
   "cell_type": "markdown",
   "metadata": {},
   "source": [
    "3. __Number of tests/trials needed for specific confidence level.__  \n",
    "\n",
    "- Trials/tests are __Independent__ (the outcome of yes/no for each trial, does not dependent on the other trials)\n",
    "- Test __Relability__ __≠__ Experiment __Validity__ (A _correct Test_ doesn't mean _correct conlcusion_; The metrics used for validating a hypothesis/parameter should be thoroughly examined)"
   ]
  },
  {
   "cell_type": "markdown",
   "metadata": {},
   "source": [
    "$P(Test  Incorrect) + P(Test  Correct) = 1, P()>0 $  \n",
    "\n",
    "$P(Test  Incorrect) = P(Human  Error |or| System Error) = P(Human  Error) + P(System  Error) $ (Human error, System error : independent to each other)\n",
    "\n",
    "$n \\ge \\frac{log(a)}{log(q)}$\n",
    "\n",
    "$N = n*k$\n",
    "\n",
    "- n: number of trials/tests necessary for 1-a confidence level result\n",
    "- a: Probability of wrong conclusion (Type error I)\n",
    "- 1-a: Confidence level\n",
    "- p: Probability of correct test to occur\n",
    "- q = 1-p : Probability of incorrect test to occur\n",
    "- k: Tests needed to validate a Hypothesis (is not included in this chapter)\n",
    "- N: number of total tests needed to verify a conclusion in the experiment  "
   ]
  },
  {
   "cell_type": "code",
   "execution_count": 4,
   "metadata": {},
   "outputs": [
    {
     "name": "stdout",
     "output_type": "stream",
     "text": [
      "P(Test correct) =  0.05 %\n",
      "Confidence level =  0.95 %\n",
      "Number of tests/trials for  0.95  confidence level result =  58.40397481431972\n"
     ]
    }
   ],
   "source": [
    "import math\n",
    "a = 0.05\n",
    "p = 0.05\n",
    "print(\"P(Test correct) = \", p, \"%\")\n",
    "print(\"Confidence level = \", 1-a, \"%\")\n",
    "print(\"Number of tests/trials for \", 1-a, \" confidence level result = \", math.log(a)/math.log(1-p))"
   ]
  },
  {
   "cell_type": "code",
   "execution_count": 56,
   "metadata": {},
   "outputs": [
    {
     "name": "stdout",
     "output_type": "stream",
     "text": [
      "Number of tests/trials for  0.95  confidence level result =  2.4882059318866436\n",
      "Total number of trials/tests to verify experiment Hypothesis =  24.882059318866435\n"
     ]
    }
   ],
   "source": [
    "import math\n",
    "a = 0.05\n",
    "p = 0.7\n",
    "k = 10\n",
    "result = k * math.log(a)/math.log(1-p)\n",
    "print(\"Number of tests/trials for \", 1-a, \" confidence level result = \", math.log(a)/math.log(1-p))\n",
    "print(\"Total number of trials/tests to verify experiment Hypothesis = \", result)"
   ]
  },
  {
   "cell_type": "code",
   "execution_count": null,
   "metadata": {},
   "outputs": [],
   "source": []
  }
 ],
 "metadata": {
  "kernelspec": {
   "display_name": "Python 3",
   "language": "python",
   "name": "python3"
  },
  "language_info": {
   "codemirror_mode": {
    "name": "ipython",
    "version": 3
   },
   "file_extension": ".py",
   "mimetype": "text/x-python",
   "name": "python",
   "nbconvert_exporter": "python",
   "pygments_lexer": "ipython3",
   "version": "3.7.3"
  }
 },
 "nbformat": 4,
 "nbformat_minor": 4
}
